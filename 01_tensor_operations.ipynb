{
  "cells": [
    {
      "cell_type": "markdown",
      "metadata": {
        "id": "crL9X46RBrwu",
        "colab_type": "text"
      },
      "source": [
        "**bold text**# Torch functions\n",
        "\n",
        "### Overview\n",
        "\n",
        "An short introduction about PyTorch and about the chosen functions. \n",
        "- Torch.nn.functional.conv2d \n",
        "- Torch.functional.relu and sigmoid\n",
        "- Tensor views\n",
        "- Tensror sparse\n",
        "- distribution Bernoulli"
      ]
    },
    {
      "cell_type": "code",
      "metadata": {
        "id": "bhLv9QnNBrwx",
        "colab_type": "code",
        "colab": {}
      },
      "source": [
        "# Import torch and other required modules\n",
        "import torch\n",
        "import torch.nn as nn\n",
        "import torch.nn.functional as F"
      ],
      "execution_count": 1,
      "outputs": []
    },
    {
      "cell_type": "markdown",
      "metadata": {
        "id": "J7egRnXiBrxA",
        "colab_type": "text"
      },
      "source": [
        "## Function 1 - torch.nn.ConvNd\n",
        "\n",
        "Add some explanations"
      ]
    },
    {
      "cell_type": "code",
      "metadata": {
        "id": "aD1plJ70BrxG",
        "colab_type": "code",
        "outputId": "997b6b24-85e1-4515-f734-625eeb985328",
        "colab": {
          "base_uri": "https://localhost:8080/",
          "height": 896
        }
      },
      "source": [
        "# Example 1 \n",
        "weights = torch.randn(8,4,3,3)\n",
        "inputs = torch.randn( 1,4,5,5)\n",
        "\n",
        "conv2 = nn.functional.conv2d(inputs, weights, padding=1)\n",
        "print(conv2)\n"
      ],
      "execution_count": 2,
      "outputs": [
        {
          "output_type": "stream",
          "name": "stdout",
          "text": "tensor([[[[ 3.8680e+00,  5.0820e+00, -1.0063e+01, -8.8937e-01,  2.9871e+00],\n          [ 4.9803e+00,  1.2524e+00, -3.5393e-01, -5.7376e-02,  6.9019e+00],\n          [-5.3350e+00, -9.8769e+00, -3.6961e+00, -3.9565e+00, -4.4567e+00],\n          [-6.1955e+00,  2.1419e+00,  2.0403e-01, -2.7475e+00,  1.1002e+01],\n          [ 9.4631e+00,  8.7178e-01,  2.1688e+00,  7.1002e+00,  1.4491e+00]],\n\n         [[ 2.5075e+00, -1.3761e+00,  5.8364e+00, -6.6801e+00, -1.5880e+00],\n          [-2.2470e+00,  1.1989e+01, -3.5544e+00, -6.0607e+00,  4.7767e+00],\n          [ 8.3233e+00, -4.9677e+00, -4.8019e+00,  5.1346e+00,  1.2297e+00],\n          [-5.5617e+00, -5.0186e+00,  6.7778e-01, -1.2989e+01, -1.4212e+00],\n          [-3.0105e+00, -3.6638e+00,  5.0936e+00, -3.5987e+00, -1.7590e+00]],\n\n         [[ 1.3004e+00,  3.8636e+00,  1.3745e+00, -4.9612e+00, -1.8940e+00],\n          [ 2.1954e-02,  1.5935e+00,  8.0963e+00,  5.9663e+00,  1.7166e+00],\n          [ 4.0973e+00,  2.3024e+00,  1.8693e+00, -1.5356e-01,  4.0245e+00],\n          [-1.9318e+00, -2.2527e-01,  2.9208e+00, -2.0158e+00, -1.8689e+00],\n          [-6.4032e-01, -1.0677e+01,  4.3496e+00, -7.2807e-01,  1.0686e+00]],\n\n         [[-9.1417e-03, -6.8313e+00,  8.9343e+00, -4.0506e+00, -1.3380e+00],\n          [-1.2367e+01,  3.8457e+00,  5.6170e+00, -1.0560e+01,  5.7460e+00],\n          [ 3.8650e+00,  3.5976e+00, -2.8892e+00,  1.2291e+00, -1.8745e+00],\n          [ 7.3313e+00, -5.0042e+00,  1.3423e+00,  7.3137e-01, -6.0769e+00],\n          [-2.5561e+00,  1.6833e+00,  6.1848e+00, -2.8550e+00,  3.3420e+00]],\n\n         [[ 3.3553e+00, -3.4772e+00, -6.8116e-01, -8.9013e-01, -2.8952e+00],\n          [ 6.5434e-01, -1.3575e+00,  8.0224e+00, -1.2259e+00, -1.6162e+00],\n          [ 3.4559e+00,  7.5026e+00, -1.7468e+00,  6.3646e+00, -8.8414e-01],\n          [ 6.0009e+00,  3.7210e+00, -5.2953e+00, -4.7632e+00, -2.7142e+00],\n          [ 3.4380e-01, -8.2212e-01,  4.7768e+00, -5.3364e+00, -6.1744e+00]],\n\n         [[ 3.6878e-01, -1.3324e-01, -2.7351e+00, -1.0917e+00, -4.7788e+00],\n          [-2.2061e+00,  6.6370e-01, -9.1234e-01, -3.1340e+00, -3.5064e+00],\n          [-4.6640e+00,  3.9090e+00, -9.8812e+00, -2.6794e+00, -7.2603e-02],\n          [ 4.6101e-01,  2.0525e+00,  3.3524e-01, -4.6056e+00, -2.4658e+00],\n          [ 5.7663e-01,  3.5680e-01, -1.5147e+00,  4.4018e+00, -9.7672e-01]],\n\n         [[-1.7987e+00,  6.5154e-01, -1.5246e+00,  3.6759e+00,  4.4590e+00],\n          [ 2.1427e-01,  2.2629e-01, -2.5939e+00, -2.4905e+00,  7.1225e-01],\n          [ 2.6632e+00, -1.9831e+00,  3.7383e+00, -1.4604e+00, -1.1919e+00],\n          [ 2.7843e+00, -5.6450e+00, -7.5471e+00,  2.8669e-02, -2.2600e+00],\n          [ 9.1320e-01,  1.1682e+00, -3.0183e+00, -4.0003e+00,  6.1508e+00]],\n\n         [[ 5.3196e+00, -4.0816e+00, -7.5325e-01, -2.1066e+00, -4.3520e+00],\n          [-2.3228e+00, -2.5519e+00,  3.2655e+00, -2.2304e+00,  9.4970e-01],\n          [ 3.7479e+00, -2.7900e+00,  2.4141e+00, -2.6348e-02, -1.7779e+00],\n          [-6.8566e+00, -5.0837e+00, -1.0266e+01, -2.6781e+00, -4.6948e+00],\n          [ 5.6717e-01, -3.0513e+00, -3.4173e+00, -1.8979e+00,  4.9804e+00]]]])\n"
        }
      ]
    },
    {
      "cell_type": "markdown",
      "metadata": {
        "id": "DV6m3n8uBrxN",
        "colab_type": "text"
      },
      "source": [
        "Explanation about example:create convolutional NN matrix of [1, 8, 5, 5] dim for a kernel given input and filter list values"
      ]
    },
    {
      "cell_type": "code",
      "metadata": {
        "id": "vGTfFq8iBrxO",
        "colab_type": "code",
        "outputId": "478fe519-a404-4c1b-deed-7a671fcbaebb",
        "colab": {
          "base_uri": "https://localhost:8080/",
          "height": 447
        }
      },
      "source": [
        "# Example 2 - working\n",
        "weights = torch.randn(1,3,2,2)\n",
        "inputs = torch.randn(5,3,2,2)\n",
        "\n",
        "conv = nn.functional.conv2d(inputs, weights, padding=1)\n",
        "print(conv)"
      ],
      "execution_count": 3,
      "outputs": [
        {
          "output_type": "stream",
          "name": "stdout",
          "text": "tensor([[[[ 0.1695,  1.0453, -4.0867],\n          [-0.8918,  4.1409,  0.5377],\n          [ 1.1184, -0.7244, -1.2250]]],\n\n\n        [[[ 0.2823, -0.8084, -0.7433],\n          [ 0.2396, -0.0843,  0.8847],\n          [ 0.9181, -2.3397,  1.2026]]],\n\n\n        [[[ 0.2465, -3.2782, -0.9955],\n          [-1.1485,  1.2174, -5.2969],\n          [ 0.2108, -3.7376,  2.9179]]],\n\n\n        [[[ 0.8229, -1.3374,  1.7358],\n          [-3.0083,  2.0577, -4.0302],\n          [ 1.7551, -3.1077, -4.1525]]],\n\n\n        [[[ 0.6812,  0.2392, -0.9130],\n          [-1.0887,  3.0736, -1.1439],\n          [ 0.0581, -0.7539, -0.2402]]]])\n"
        }
      ]
    },
    {
      "cell_type": "markdown",
      "metadata": {
        "id": "Lp4evQNPBrxV",
        "colab_type": "text"
      },
      "source": [
        "Explanation about example:create convolutional NN matrix of [5, 1, 3, 3] dim for a kernel given input and filter matrix values"
      ]
    },
    {
      "cell_type": "code",
      "metadata": {
        "id": "ZiZ7DXzJBrxW",
        "colab_type": "code",
        "outputId": "a0ffd998-1170-4edb-d40a-e0baada00335",
        "colab": {
          "base_uri": "https://localhost:8080/",
          "height": 212
        }
      },
      "source": [
        "# Example 3 - breaking (to illustrate when it breaks)\n",
        "filters = torch.randn(1,3,2,2)\n",
        "inputs = torch.randn(5,3,2,2)\n",
        "\n",
        "conv = nn.functional.conv2d(inputs, padding=1)\n"
      ],
      "execution_count": 4,
      "outputs": [
        {
          "output_type": "error",
          "ename": "TypeError",
          "evalue": "conv2d() missing 1 required positional arguments: \"weight\"",
          "traceback": [
            "\u001b[1;31m---------------------------------------------------------------------------\u001b[0m",
            "\u001b[1;31mTypeError\u001b[0m                                 Traceback (most recent call last)",
            "\u001b[1;32m<ipython-input-4-d5427702fb67>\u001b[0m in \u001b[0;36m<module>\u001b[1;34m\u001b[0m\n\u001b[0;32m      3\u001b[0m \u001b[0minputs\u001b[0m \u001b[1;33m=\u001b[0m \u001b[0mtorch\u001b[0m\u001b[1;33m.\u001b[0m\u001b[0mrandn\u001b[0m\u001b[1;33m(\u001b[0m\u001b[1;36m5\u001b[0m\u001b[1;33m,\u001b[0m\u001b[1;36m3\u001b[0m\u001b[1;33m,\u001b[0m\u001b[1;36m2\u001b[0m\u001b[1;33m,\u001b[0m\u001b[1;36m2\u001b[0m\u001b[1;33m)\u001b[0m\u001b[1;33m\u001b[0m\u001b[1;33m\u001b[0m\u001b[0m\n\u001b[0;32m      4\u001b[0m \u001b[1;33m\u001b[0m\u001b[0m\n\u001b[1;32m----> 5\u001b[1;33m \u001b[0mconv\u001b[0m \u001b[1;33m=\u001b[0m \u001b[0mnn\u001b[0m\u001b[1;33m.\u001b[0m\u001b[0mfunctional\u001b[0m\u001b[1;33m.\u001b[0m\u001b[0mconv2d\u001b[0m\u001b[1;33m(\u001b[0m\u001b[0minputs\u001b[0m\u001b[1;33m,\u001b[0m \u001b[0mpadding\u001b[0m\u001b[1;33m=\u001b[0m\u001b[1;36m1\u001b[0m\u001b[1;33m)\u001b[0m\u001b[1;33m\u001b[0m\u001b[1;33m\u001b[0m\u001b[0m\n\u001b[0m",
            "\u001b[1;31mTypeError\u001b[0m: conv2d() missing 1 required positional arguments: \"weight\""
          ]
        }
      ]
    },
    {
      "cell_type": "markdown",
      "metadata": {
        "id": "Xy0XGyotBrxb",
        "colab_type": "text"
      },
      "source": [
        "Explanation about example: minimum 3 parameters in order to set the kernel weights of the NN convolutional matrix"
      ]
    },
    {
      "cell_type": "markdown",
      "metadata": {
        "id": "DGhYETJJBrxd",
        "colab_type": "text"
      },
      "source": [
        "Closing comments about when to use this function: to set convolutional matrix in order to manage deep NN learning with invariance characteristics. "
      ]
    },
    {
      "cell_type": "markdown",
      "metadata": {
        "id": "RpTjN3ImBrxe",
        "colab_type": "text"
      },
      "source": [
        "## Function 2 - torch.nn.functional\n",
        "\n",
        "Applies the rectified linear unit function element-wise."
      ]
    },
    {
      "cell_type": "code",
      "metadata": {
        "id": "7Nb0nsHcBrxf",
        "colab_type": "code",
        "outputId": "46570615-1b61-44d9-9e46-a23d61208324",
        "colab": {
          "base_uri": "https://localhost:8080/",
          "height": 54
        }
      },
      "source": [
        "# Example 1 - working\n",
        "input=torch.tensor([[1, 2], [3, 4.]])\n",
        "F.relu(input)"
      ],
      "execution_count": 5,
      "outputs": [
        {
          "output_type": "execute_result",
          "data": {
            "text/plain": "tensor([[1., 2.],\n        [3., 4.]])"
          },
          "metadata": {},
          "execution_count": 5
        }
      ]
    },
    {
      "cell_type": "markdown",
      "metadata": {
        "id": "HSzoqud4Brxm",
        "colab_type": "text"
      },
      "source": [
        "Explanation about example:Applies the rectified linear unit function element-wise."
      ]
    },
    {
      "cell_type": "code",
      "metadata": {
        "id": "gwvYLIVtBrxn",
        "colab_type": "code",
        "outputId": "e145fc63-5697-4ad0-874c-6c4c796ddfb0",
        "colab": {
          "base_uri": "https://localhost:8080/",
          "height": 54
        }
      },
      "source": [
        "# Example 2 - working\n",
        "F.logsigmoid(torch.tensor([[1, 2, 3, 4], [3, 4., 4, 4]]))"
      ],
      "execution_count": 6,
      "outputs": [
        {
          "output_type": "execute_result",
          "data": {
            "text/plain": "tensor([[-0.3133, -0.1269, -0.0486, -0.0181],\n        [-0.0486, -0.0181, -0.0181, -0.0181]])"
          },
          "metadata": {},
          "execution_count": 6
        }
      ]
    },
    {
      "cell_type": "markdown",
      "metadata": {
        "id": "NbpPSsRfBrxr",
        "colab_type": "text"
      },
      "source": [
        "Explanation about example: Applies the sigmoid function element-wise."
      ]
    },
    {
      "cell_type": "code",
      "metadata": {
        "id": "ZJ-GuazEBrxr",
        "colab_type": "code",
        "outputId": "c40a5fb7-1ce6-4755-b87c-3c4291286e62",
        "colab": {
          "base_uri": "https://localhost:8080/",
          "height": 212
        }
      },
      "source": [
        "# Example 3 - breaking (to illustrate when it breaks)\n",
        "input=torch.tensor([[1, 1], [3, 4., 5, 6]])\n",
        "F.relu(input)"
      ],
      "execution_count": 7,
      "outputs": [
        {
          "output_type": "error",
          "ename": "ValueError",
          "evalue": "expected sequence of length 2 at dim 1 (got 4)",
          "traceback": [
            "\u001b[1;31m---------------------------------------------------------------------------\u001b[0m",
            "\u001b[1;31mValueError\u001b[0m                                Traceback (most recent call last)",
            "\u001b[1;32m<ipython-input-7-9fc17618d433>\u001b[0m in \u001b[0;36m<module>\u001b[1;34m\u001b[0m\n\u001b[0;32m      1\u001b[0m \u001b[1;31m# Example 3 - breaking (to illustrate when it breaks)\u001b[0m\u001b[1;33m\u001b[0m\u001b[1;33m\u001b[0m\u001b[1;33m\u001b[0m\u001b[0m\n\u001b[1;32m----> 2\u001b[1;33m \u001b[0minput\u001b[0m\u001b[1;33m=\u001b[0m\u001b[0mtorch\u001b[0m\u001b[1;33m.\u001b[0m\u001b[0mtensor\u001b[0m\u001b[1;33m(\u001b[0m\u001b[1;33m[\u001b[0m\u001b[1;33m[\u001b[0m\u001b[1;36m1\u001b[0m\u001b[1;33m,\u001b[0m \u001b[1;36m1\u001b[0m\u001b[1;33m]\u001b[0m\u001b[1;33m,\u001b[0m \u001b[1;33m[\u001b[0m\u001b[1;36m3\u001b[0m\u001b[1;33m,\u001b[0m \u001b[1;36m4.\u001b[0m\u001b[1;33m,\u001b[0m \u001b[1;36m5\u001b[0m\u001b[1;33m,\u001b[0m \u001b[1;36m6\u001b[0m\u001b[1;33m]\u001b[0m\u001b[1;33m]\u001b[0m\u001b[1;33m)\u001b[0m\u001b[1;33m\u001b[0m\u001b[1;33m\u001b[0m\u001b[0m\n\u001b[0m\u001b[0;32m      3\u001b[0m \u001b[0mF\u001b[0m\u001b[1;33m.\u001b[0m\u001b[0mrelu\u001b[0m\u001b[1;33m(\u001b[0m\u001b[0minput\u001b[0m\u001b[1;33m)\u001b[0m\u001b[1;33m\u001b[0m\u001b[1;33m\u001b[0m\u001b[0m\n",
            "\u001b[1;31mValueError\u001b[0m: expected sequence of length 2 at dim 1 (got 4)"
          ]
        }
      ]
    },
    {
      "cell_type": "markdown",
      "metadata": {
        "id": "YpmMh7AUBrxv",
        "colab_type": "text"
      },
      "source": [
        "Explanation about example: the dimension must be nxn, means square dim"
      ]
    },
    {
      "cell_type": "markdown",
      "metadata": {
        "id": "fyIs7bksBrxw",
        "colab_type": "text"
      },
      "source": [
        "Closing comments about when to use this function; usually the function set for forward propagate must be done according the NN problem \n",
        "\n",
        "---\n",
        "\n"
      ]
    },
    {
      "cell_type": "markdown",
      "metadata": {
        "id": "ycZ3J-LbBrxx",
        "colab_type": "text"
      },
      "source": [
        "## Function 3 - Tensor views\n",
        "\n",
        "view function is meant to reshape the tensor"
      ]
    },
    {
      "cell_type": "code",
      "metadata": {
        "id": "aBTarA65Brxx",
        "colab_type": "code",
        "outputId": "a9c7d3d4-cc1e-4e56-c032-2c80f5c5abcf",
        "colab": {
          "base_uri": "https://localhost:8080/",
          "height": 187
        }
      },
      "source": [
        "# Example 1 - working\n",
        "a = torch.range(1, 16)\n",
        "print(a)\n",
        "a.view(4, 4)"
      ],
      "execution_count": 8,
      "outputs": [
        {
          "output_type": "stream",
          "name": "stdout",
          "text": "tensor([ 1.,  2.,  3.,  4.,  5.,  6.,  7.,  8.,  9., 10., 11., 12., 13., 14.,\n        15., 16.])\n"
        },
        {
          "output_type": "execute_result",
          "data": {
            "text/plain": "tensor([[ 1.,  2.,  3.,  4.],\n        [ 5.,  6.,  7.,  8.],\n        [ 9., 10., 11., 12.],\n        [13., 14., 15., 16.]])"
          },
          "metadata": {},
          "execution_count": 8
        }
      ]
    },
    {
      "cell_type": "markdown",
      "metadata": {
        "id": "lRve_rkhBrx3",
        "colab_type": "text"
      },
      "source": [
        "Explanation about example: the view reshape size must be the same size (16 or 4**2)  previous generated when the torch array is created."
      ]
    },
    {
      "cell_type": "code",
      "metadata": {
        "id": "W9l5rP5XBrx4",
        "colab_type": "code",
        "outputId": "b8e91977-fcf5-4eb9-d9a3-aa19ef5f51e8",
        "colab": {
          "base_uri": "https://localhost:8080/",
          "height": 355
        }
      },
      "source": [
        "# Example 2 - working\n",
        "a = torch.range(1, 81)\n",
        "print(a)\n",
        "a.view(9, 9)"
      ],
      "execution_count": 25,
      "outputs": [
        {
          "output_type": "stream",
          "name": "stdout",
          "text": "tensor([ 1.,  2.,  3.,  4.,  5.,  6.,  7.,  8.,  9., 10., 11., 12., 13., 14.,\n        15., 16., 17., 18., 19., 20., 21., 22., 23., 24., 25., 26., 27., 28.,\n        29., 30., 31., 32., 33., 34., 35., 36., 37., 38., 39., 40., 41., 42.,\n        43., 44., 45., 46., 47., 48., 49., 50., 51., 52., 53., 54., 55., 56.,\n        57., 58., 59., 60., 61., 62., 63., 64., 65., 66., 67., 68., 69., 70.,\n        71., 72., 73., 74., 75., 76., 77., 78., 79., 80., 81.])\n"
        },
        {
          "output_type": "execute_result",
          "data": {
            "text/plain": "tensor([[ 1.,  2.,  3.,  4.,  5.,  6.,  7.,  8.,  9.],\n        [10., 11., 12., 13., 14., 15., 16., 17., 18.],\n        [19., 20., 21., 22., 23., 24., 25., 26., 27.],\n        [28., 29., 30., 31., 32., 33., 34., 35., 36.],\n        [37., 38., 39., 40., 41., 42., 43., 44., 45.],\n        [46., 47., 48., 49., 50., 51., 52., 53., 54.],\n        [55., 56., 57., 58., 59., 60., 61., 62., 63.],\n        [64., 65., 66., 67., 68., 69., 70., 71., 72.],\n        [73., 74., 75., 76., 77., 78., 79., 80., 81.]])"
          },
          "metadata": {},
          "execution_count": 25
        }
      ]
    },
    {
      "cell_type": "markdown",
      "metadata": {
        "id": "NFAX11irBrx8",
        "colab_type": "text"
      },
      "source": [
        "Explanation about example: the view reshape size must be the same size (81 or 9**2) previous generated when the torch array is created."
      ]
    },
    {
      "cell_type": "code",
      "metadata": {
        "id": "j53QMlrjBrx9",
        "colab_type": "code",
        "outputId": "c3e62277-26cc-4bef-aeee-0d330313170c",
        "colab": {
          "base_uri": "https://localhost:8080/",
          "height": 307
        }
      },
      "source": [
        "# Example 3 - breaking (to illustrate when it breaks)\n",
        "a = torch.range(1, 16)\n",
        "print(a)\n",
        "a.view(5, 5)"
      ],
      "execution_count": 10,
      "outputs": [
        {
          "output_type": "stream",
          "name": "stdout",
          "text": "tensor([ 1.,  2.,  3.,  4.,  5.,  6.,  7.,  8.,  9., 10., 11., 12., 13., 14.,\n        15., 16.])\n"
        },
        {
          "output_type": "error",
          "ename": "RuntimeError",
          "evalue": "shape '[5, 5]' is invalid for input of size 16",
          "traceback": [
            "\u001b[1;31m---------------------------------------------------------------------------\u001b[0m",
            "\u001b[1;31mRuntimeError\u001b[0m                              Traceback (most recent call last)",
            "\u001b[1;32m<ipython-input-10-e3d5091be697>\u001b[0m in \u001b[0;36m<module>\u001b[1;34m\u001b[0m\n\u001b[0;32m      2\u001b[0m \u001b[0ma\u001b[0m \u001b[1;33m=\u001b[0m \u001b[0mtorch\u001b[0m\u001b[1;33m.\u001b[0m\u001b[0mrange\u001b[0m\u001b[1;33m(\u001b[0m\u001b[1;36m1\u001b[0m\u001b[1;33m,\u001b[0m \u001b[1;36m16\u001b[0m\u001b[1;33m)\u001b[0m\u001b[1;33m\u001b[0m\u001b[1;33m\u001b[0m\u001b[0m\n\u001b[0;32m      3\u001b[0m \u001b[0mprint\u001b[0m\u001b[1;33m(\u001b[0m\u001b[0ma\u001b[0m\u001b[1;33m)\u001b[0m\u001b[1;33m\u001b[0m\u001b[1;33m\u001b[0m\u001b[0m\n\u001b[1;32m----> 4\u001b[1;33m \u001b[0ma\u001b[0m\u001b[1;33m.\u001b[0m\u001b[0mview\u001b[0m\u001b[1;33m(\u001b[0m\u001b[1;36m5\u001b[0m\u001b[1;33m,\u001b[0m \u001b[1;36m5\u001b[0m\u001b[1;33m)\u001b[0m\u001b[1;33m\u001b[0m\u001b[1;33m\u001b[0m\u001b[0m\n\u001b[0m",
            "\u001b[1;31mRuntimeError\u001b[0m: shape '[5, 5]' is invalid for input of size 16"
          ]
        }
      ]
    },
    {
      "cell_type": "markdown",
      "metadata": {
        "id": "k1EwkuUdBryE",
        "colab_type": "text"
      },
      "source": [
        "Explanation about example: breake when the dimension don't achive the same size as tensor array "
      ]
    },
    {
      "cell_type": "markdown",
      "metadata": {
        "id": "q4X_-xtIBryF",
        "colab_type": "text"
      },
      "source": [
        "Closing comments about when to use this function: to  reshape the dimension of an tesor array previous generated   "
      ]
    },
    {
      "cell_type": "markdown",
      "metadata": {
        "id": "UulrrTGpBryF",
        "colab_type": "text"
      },
      "source": [
        "## Function 4 - torch.sparse\n",
        "\n",
        "Torch supports sparse tensors in COO(rdinate) format, which can efficiently store and process tensors for which the majority of elements are zeros."
      ]
    },
    {
      "cell_type": "code",
      "metadata": {
        "id": "dnIYjCp4BryG",
        "colab_type": "code",
        "outputId": "949eed3e-d0ce-4ee5-e79d-ac092fe0c555",
        "colab": {
          "base_uri": "https://localhost:8080/",
          "height": 54
        }
      },
      "source": [
        "# Example 1 - working\n",
        "i = torch.LongTensor([[0, 1, 1],\n",
        "                          [2, 0, 2]])\n",
        "v = torch.FloatTensor([3, 4, 5])\n",
        "torch.sparse.FloatTensor(i, v, torch.Size([2,3])).to_dense()"
      ],
      "execution_count": 11,
      "outputs": [
        {
          "output_type": "execute_result",
          "data": {
            "text/plain": "tensor([[0., 0., 3.],\n        [4., 0., 5.]])"
          },
          "metadata": {},
          "execution_count": 11
        }
      ]
    },
    {
      "cell_type": "markdown",
      "metadata": {
        "id": "OTmAdX_DBryK",
        "colab_type": "text"
      },
      "source": [
        "Explanation about example: the dense tensor indices give the coordinates to set the list values in a new sparse tensor [0,2][1,0][1,2], and the dense tenstor values give the values in order to set"
      ]
    },
    {
      "cell_type": "code",
      "metadata": {
        "id": "IRCStFq-BryL",
        "colab_type": "code",
        "outputId": "f0084af0-f9fd-4321-d10a-bb17236266a3",
        "colab": {
          "base_uri": "https://localhost:8080/",
          "height": 54
        }
      },
      "source": [
        "# Example 2 - working\n",
        "i = torch.LongTensor([[1, 1, 1],\n",
        "                          [1, 0, 2]])\n",
        "v = torch.FloatTensor([1, 1, 1])\n",
        "torch.sparse.FloatTensor(i, v, torch.Size([2,3])).to_dense()"
      ],
      "execution_count": 12,
      "outputs": [
        {
          "output_type": "execute_result",
          "data": {
            "text/plain": "tensor([[0., 0., 0.],\n        [1., 1., 1.]])"
          },
          "metadata": {},
          "execution_count": 12
        }
      ]
    },
    {
      "cell_type": "markdown",
      "metadata": {
        "id": "c9BR2fd-BryR",
        "colab_type": "text"
      },
      "source": [
        "Explanation about example: the dense tensor indices give the coordinates to set the list values in a new sparse tensor [1,1][1,0][1,2], and the dense tenstor values give the values in order to set"
      ]
    },
    {
      "cell_type": "code",
      "metadata": {
        "id": "6nmhCVazBryR",
        "colab_type": "code",
        "outputId": "3719eb7c-2f8b-488b-86de-b9ee7a032493",
        "colab": {
          "base_uri": "https://localhost:8080/",
          "height": 212
        }
      },
      "source": [
        "# Example 3 - breaking (to illustrate when it breaks)\n",
        "i = torch.LongTensor([[1, 1, 1],\n",
        "                          [1, 0, 2]])\n",
        "v = torch.FloatTensor([1, 1])\n",
        "torch.sparse.FloatTensor(i, v, torch.Size([2,3])).to_dense()"
      ],
      "execution_count": 13,
      "outputs": [
        {
          "output_type": "error",
          "ename": "RuntimeError",
          "evalue": "indices and values must have same nnz, but got nnz from indices: 3, nnz from values: 2",
          "traceback": [
            "\u001b[1;31m---------------------------------------------------------------------------\u001b[0m",
            "\u001b[1;31mRuntimeError\u001b[0m                              Traceback (most recent call last)",
            "\u001b[1;32m<ipython-input-13-f5c304c035d3>\u001b[0m in \u001b[0;36m<module>\u001b[1;34m\u001b[0m\n\u001b[0;32m      3\u001b[0m                           [1, 0, 2]])\n\u001b[0;32m      4\u001b[0m \u001b[0mv\u001b[0m \u001b[1;33m=\u001b[0m \u001b[0mtorch\u001b[0m\u001b[1;33m.\u001b[0m\u001b[0mFloatTensor\u001b[0m\u001b[1;33m(\u001b[0m\u001b[1;33m[\u001b[0m\u001b[1;36m1\u001b[0m\u001b[1;33m,\u001b[0m \u001b[1;36m1\u001b[0m\u001b[1;33m]\u001b[0m\u001b[1;33m)\u001b[0m\u001b[1;33m\u001b[0m\u001b[1;33m\u001b[0m\u001b[0m\n\u001b[1;32m----> 5\u001b[1;33m \u001b[0mtorch\u001b[0m\u001b[1;33m.\u001b[0m\u001b[0msparse\u001b[0m\u001b[1;33m.\u001b[0m\u001b[0mFloatTensor\u001b[0m\u001b[1;33m(\u001b[0m\u001b[0mi\u001b[0m\u001b[1;33m,\u001b[0m \u001b[0mv\u001b[0m\u001b[1;33m,\u001b[0m \u001b[0mtorch\u001b[0m\u001b[1;33m.\u001b[0m\u001b[0mSize\u001b[0m\u001b[1;33m(\u001b[0m\u001b[1;33m[\u001b[0m\u001b[1;36m2\u001b[0m\u001b[1;33m,\u001b[0m\u001b[1;36m3\u001b[0m\u001b[1;33m]\u001b[0m\u001b[1;33m)\u001b[0m\u001b[1;33m)\u001b[0m\u001b[1;33m.\u001b[0m\u001b[0mto_dense\u001b[0m\u001b[1;33m(\u001b[0m\u001b[1;33m)\u001b[0m\u001b[1;33m\u001b[0m\u001b[1;33m\u001b[0m\u001b[0m\n\u001b[0m",
            "\u001b[1;31mRuntimeError\u001b[0m: indices and values must have same nnz, but got nnz from indices: 3, nnz from values: 2"
          ]
        }
      ]
    },
    {
      "cell_type": "markdown",
      "metadata": {
        "id": "_tu4wqatBryV",
        "colab_type": "text"
      },
      "source": [
        "Explanation about example: if there are 3 coordinates is necessary  provide a dense tensor list with 3 values"
      ]
    },
    {
      "cell_type": "markdown",
      "metadata": {
        "id": "6AfwBspKBryV",
        "colab_type": "text"
      },
      "source": [
        "Closing comments about when to use this function"
      ]
    },
    {
      "cell_type": "markdown",
      "metadata": {
        "id": "oB2pAG6qBryX",
        "colab_type": "text"
      },
      "source": [
        "## Function 5 - distribution.Bernoulli\n",
        "\n",
        "Add some explanations"
      ]
    },
    {
      "cell_type": "code",
      "metadata": {
        "id": "C0D6WiQZBryY",
        "colab_type": "code",
        "outputId": "c348663c-3aba-47ef-af6d-0e818128b1f1",
        "colab": {
          "base_uri": "https://localhost:8080/",
          "height": 36
        }
      },
      "source": [
        "# Example 1 - working\n",
        "m = torch.distributions.bernoulli.Bernoulli(torch.tensor([0.3]))\n",
        "m.sample()  # 30% chance 1; 70% chance 0\n"
      ],
      "execution_count": 14,
      "outputs": [
        {
          "output_type": "execute_result",
          "data": {
            "text/plain": "tensor([0.])"
          },
          "metadata": {},
          "execution_count": 14
        }
      ]
    },
    {
      "cell_type": "markdown",
      "metadata": {
        "id": "434A10E2Bryc",
        "colab_type": "text"
      },
      "source": [
        "Explanation about example: likelihood to sample is 70% chance 0 and 30% chance 1"
      ]
    },
    {
      "cell_type": "code",
      "metadata": {
        "id": "GVEYbFMyBryd",
        "colab_type": "code",
        "outputId": "d04b4c8d-ecbd-4018-c187-d6a157b8c6fd",
        "colab": {
          "base_uri": "https://localhost:8080/",
          "height": 36
        }
      },
      "source": [
        "# Example 2 - working\n",
        "m = torch.distributions.bernoulli.Bernoulli(torch.tensor([0.5]))\n",
        "m.sample()  # 50% chance 1; 50% chance 0"
      ],
      "execution_count": 15,
      "outputs": [
        {
          "output_type": "execute_result",
          "data": {
            "text/plain": "tensor([1.])"
          },
          "metadata": {},
          "execution_count": 15
        }
      ]
    },
    {
      "cell_type": "markdown",
      "metadata": {
        "id": "b2HsN_3TBryg",
        "colab_type": "text"
      },
      "source": [
        "Explanation about example: likelihood to sample is 50%  chance 0 and 50% chance 1"
      ]
    },
    {
      "cell_type": "code",
      "metadata": {
        "id": "YiTMDC1xBryg",
        "colab_type": "code",
        "outputId": "f1074229-57eb-47e4-dde6-e82a2bc2807a",
        "colab": {
          "base_uri": "https://localhost:8080/",
          "height": 343
        }
      },
      "source": [
        "# Example 3 - breaking (to illustrate when it breaks)\n",
        "m = torch.distributions.bernoulli.Bernoulli(torch.tensor([1]))\n",
        "m.sample()  "
      ],
      "execution_count": 16,
      "outputs": [
        {
          "output_type": "error",
          "ename": "RuntimeError",
          "evalue": "\"bernoulli_tensor_cpu_p_\" not implemented for 'torch.LongTensor'",
          "traceback": [
            "\u001b[1;31m---------------------------------------------------------------------------\u001b[0m",
            "\u001b[1;31mRuntimeError\u001b[0m                              Traceback (most recent call last)",
            "\u001b[1;32m<ipython-input-16-583cc257fd37>\u001b[0m in \u001b[0;36m<module>\u001b[1;34m\u001b[0m\n\u001b[0;32m      1\u001b[0m \u001b[1;31m# Example 3 - breaking (to illustrate when it breaks)\u001b[0m\u001b[1;33m\u001b[0m\u001b[1;33m\u001b[0m\u001b[1;33m\u001b[0m\u001b[0m\n\u001b[0;32m      2\u001b[0m \u001b[0mm\u001b[0m \u001b[1;33m=\u001b[0m \u001b[0mtorch\u001b[0m\u001b[1;33m.\u001b[0m\u001b[0mdistributions\u001b[0m\u001b[1;33m.\u001b[0m\u001b[0mbernoulli\u001b[0m\u001b[1;33m.\u001b[0m\u001b[0mBernoulli\u001b[0m\u001b[1;33m(\u001b[0m\u001b[0mtorch\u001b[0m\u001b[1;33m.\u001b[0m\u001b[0mtensor\u001b[0m\u001b[1;33m(\u001b[0m\u001b[1;33m[\u001b[0m\u001b[1;36m1\u001b[0m\u001b[1;33m]\u001b[0m\u001b[1;33m)\u001b[0m\u001b[1;33m)\u001b[0m\u001b[1;33m\u001b[0m\u001b[1;33m\u001b[0m\u001b[0m\n\u001b[1;32m----> 3\u001b[1;33m \u001b[0mm\u001b[0m\u001b[1;33m.\u001b[0m\u001b[0msample\u001b[0m\u001b[1;33m(\u001b[0m\u001b[1;33m)\u001b[0m\u001b[1;33m\u001b[0m\u001b[1;33m\u001b[0m\u001b[0m\n\u001b[0m",
            "\u001b[1;32m~\\AppData\\Local\\Continuum\\miniconda3\\envs\\ds2\\lib\\site-packages\\torch\\distributions\\bernoulli.py\u001b[0m in \u001b[0;36msample\u001b[1;34m(self, sample_shape)\u001b[0m\n\u001b[0;32m     86\u001b[0m         \u001b[0mshape\u001b[0m \u001b[1;33m=\u001b[0m \u001b[0mself\u001b[0m\u001b[1;33m.\u001b[0m\u001b[0m_extended_shape\u001b[0m\u001b[1;33m(\u001b[0m\u001b[0msample_shape\u001b[0m\u001b[1;33m)\u001b[0m\u001b[1;33m\u001b[0m\u001b[1;33m\u001b[0m\u001b[0m\n\u001b[0;32m     87\u001b[0m         \u001b[1;32mwith\u001b[0m \u001b[0mtorch\u001b[0m\u001b[1;33m.\u001b[0m\u001b[0mno_grad\u001b[0m\u001b[1;33m(\u001b[0m\u001b[1;33m)\u001b[0m\u001b[1;33m:\u001b[0m\u001b[1;33m\u001b[0m\u001b[1;33m\u001b[0m\u001b[0m\n\u001b[1;32m---> 88\u001b[1;33m             \u001b[1;32mreturn\u001b[0m \u001b[0mtorch\u001b[0m\u001b[1;33m.\u001b[0m\u001b[0mbernoulli\u001b[0m\u001b[1;33m(\u001b[0m\u001b[0mself\u001b[0m\u001b[1;33m.\u001b[0m\u001b[0mprobs\u001b[0m\u001b[1;33m.\u001b[0m\u001b[0mexpand\u001b[0m\u001b[1;33m(\u001b[0m\u001b[0mshape\u001b[0m\u001b[1;33m)\u001b[0m\u001b[1;33m)\u001b[0m\u001b[1;33m\u001b[0m\u001b[1;33m\u001b[0m\u001b[0m\n\u001b[0m\u001b[0;32m     89\u001b[0m \u001b[1;33m\u001b[0m\u001b[0m\n\u001b[0;32m     90\u001b[0m     \u001b[1;32mdef\u001b[0m \u001b[0mlog_prob\u001b[0m\u001b[1;33m(\u001b[0m\u001b[0mself\u001b[0m\u001b[1;33m,\u001b[0m \u001b[0mvalue\u001b[0m\u001b[1;33m)\u001b[0m\u001b[1;33m:\u001b[0m\u001b[1;33m\u001b[0m\u001b[1;33m\u001b[0m\u001b[0m\n",
            "\u001b[1;31mRuntimeError\u001b[0m: \"bernoulli_tensor_cpu_p_\" not implemented for 'torch.LongTensor'"
          ]
        }
      ]
    },
    {
      "cell_type": "markdown",
      "metadata": {
        "id": "k_dNqPzsBryj",
        "colab_type": "text"
      },
      "source": [
        "Explanation about example: the likelihood is not managed by Long numbers param"
      ]
    },
    {
      "cell_type": "markdown",
      "metadata": {
        "id": "6CLqvi0YBryk",
        "colab_type": "text"
      },
      "source": [
        "Closing comments about when to use this function: when Bernoulli likelihood is desired to assign"
      ]
    },
    {
      "cell_type": "markdown",
      "metadata": {
        "id": "zO8T3tNdBryl",
        "colab_type": "text"
      },
      "source": [
        "## Conclusion\n",
        "\n",
        "In this notebook is About torch.Tensor functions in order to be explained and presented some examples, I will continue in the next notebook regarding to Train Your First Model"
      ]
    },
    {
      "cell_type": "markdown",
      "metadata": {
        "id": "BIEfsK6uBrym",
        "colab_type": "text"
      },
      "source": [
        "## Reference Links\n",
        "Provide links to your references and other interesting articles about tensors\n",
        "* Official documentation for `torch.Tensor`: https://pytorch.org/docs/stable/tensors.html\n",
        "* ..."
      ]
    },
    {
      "cell_type": "code",
      "metadata": {
        "id": "5QTNtDnmBryn",
        "colab_type": "code",
        "colab": {}
      },
      "source": [
        "!pip install jovian --upgrade --quiet"
      ],
      "execution_count": 17,
      "outputs": []
    },
    {
      "cell_type": "code",
      "metadata": {
        "id": "brCaCUF1Bryp",
        "colab_type": "code",
        "colab": {},
        "tags": []
      },
      "source": [
        "import jovian"
      ],
      "execution_count": 1,
      "outputs": [
        {
          "output_type": "display_data",
          "data": {
            "text/plain": "<IPython.core.display.Javascript object>",
            "application/javascript": "if (window.IPython && IPython.notebook.kernel) IPython.notebook.kernel.execute('jovian.utils.jupyter.get_notebook_name_saved = lambda: \"' + IPython.notebook.notebook_name + '\"')"
          },
          "metadata": {}
        },
        {
          "output_type": "stream",
          "name": "stdout",
          "text": "[jovian] Update Available: 0.2.14 --> 0.2.16\n[jovian] Run `!pip install jovian --upgrade` to upgrade\n"
        }
      ]
    },
    {
      "cell_type": "code",
      "metadata": {
        "id": "IzWcUCAvBry6",
        "colab_type": "code",
        "outputId": "12c061be-15cb-4294-d888-9f4fcd7e7cfd",
        "colab": {
          "base_uri": "https://localhost:8080/",
          "height": 36
        },
        "tags": []
      },
      "source": [
        "jovian.commit(filename='01_tensor_operations.ipynb', artifact='torch-1.0.1-cp37-cp37m-win_amd64.whl')"
      ],
      "execution_count": 2,
      "outputs": [
        {
          "output_type": "display_data",
          "data": {
            "text/plain": "<IPython.core.display.Javascript object>",
            "application/javascript": "window.require && require([\"base/js/namespace\"],function(Jupyter){Jupyter.notebook.save_checkpoint()})"
          },
          "metadata": {}
        },
        {
          "output_type": "stream",
          "name": "stdout",
          "text": "[jovian] Attempting to save notebook..\n[jovian] Updating notebook \"adess23/01-tensor-operations-0830b\" on https://jovian.ml/\n[jovian] Uploading notebook..\n[jovian] Capturing environment..\n[jovian] Committed successfully! https://jovian.ml/adess23/01-tensor-operations-0830b\n"
        },
        {
          "output_type": "execute_result",
          "data": {
            "text/plain": "'https://jovian.ml/adess23/01-tensor-operations-0830b'"
          },
          "metadata": {},
          "execution_count": 2
        }
      ]
    },
    {
      "cell_type": "code",
      "metadata": {
        "id": "jAmhx6JsBry_",
        "colab_type": "code",
        "colab": {}
      },
      "source": [
        ""
      ],
      "execution_count": 0,
      "outputs": []
    }
  ],
  "metadata": {
    "kernelspec": {
      "display_name": "Python 3",
      "language": "python",
      "name": "python3"
    },
    "language_info": {
      "codemirror_mode": {
        "name": "ipython",
        "version": 3
      },
      "file_extension": ".py",
      "mimetype": "text/x-python",
      "name": "python",
      "nbconvert_exporter": "python",
      "pygments_lexer": "ipython3",
      "version": "3.7.6-final"
    },
    "colab": {
      "name": "01-tensor-operations.ipynb",
      "provenance": [],
      "collapsed_sections": [],
      "toc_visible": true
    }
  },
  "nbformat": 4,
  "nbformat_minor": 0
}